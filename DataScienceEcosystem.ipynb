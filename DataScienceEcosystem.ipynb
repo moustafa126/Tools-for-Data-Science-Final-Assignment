{
  "nbformat": 4,
  "nbformat_minor": 0,
  "metadata": {
    "colab": {
      "provenance": []
    },
    "kernelspec": {
      "name": "python3",
      "display_name": "Python 3"
    },
    "language_info": {
      "name": "python"
    }
  },
  "cells": [
    {
      "cell_type": "markdown",
      "source": [
        "<strong>Exercise 1: Create a Jupyter Notebook.</strong>"
      ],
      "metadata": {
        "id": "eMkg6jjdiEXH"
      }
    },
    {
      "cell_type": "markdown",
      "source": [
        "<h2><strong>Name:</strong> DataScienceEcosystem.ipynb</h2>"
      ],
      "metadata": {
        "id": "-a95L7D8iNvp"
      }
    },
    {
      "cell_type": "markdown",
      "source": [
        "<strong>Exercise 2 - Create a markdown cell with the title of the notebook.</strong>"
      ],
      "metadata": {
        "id": "xhS0KqivicHY"
      }
    },
    {
      "cell_type": "markdown",
      "source": [
        "<h1>Data Science Tools and Ecosystem</h1>"
      ],
      "metadata": {
        "id": "bCwl6OjoizJ4"
      }
    },
    {
      "cell_type": "markdown",
      "source": [
        "<strong>Exercise 3 - Create a markdown cell for an introduction.</strong>\n",
        "\n"
      ],
      "metadata": {
        "id": "D777HCZ6i4XI"
      }
    },
    {
      "cell_type": "markdown",
      "source": [
        "<p>In this notebook, Data Science Tools and Ecosystem are summarized.<p>"
      ],
      "metadata": {
        "id": "oi0ivccIi6m9"
      }
    },
    {
      "cell_type": "markdown",
      "source": [
        "<strong>Objectives:</strong>\n",
        "<ul>\n",
        "    <li>List popular languages that Data Scientists use.</li>\n",
        "    <li>List commonly used libraries used by Data Scientists.</li>\n",
        "    <li>Comment on Data Science tools.</li>\n",
        "</ul>\n",
        "    "
      ],
      "metadata": {
        "id": "6Z2kHQBmnuRK"
      }
    },
    {
      "cell_type": "markdown",
      "source": [
        "<strong>Exercise 4 - Create a markdown cell to list data science languages.</strong>"
      ],
      "metadata": {
        "id": "W75GHqo7jGmg"
      }
    },
    {
      "cell_type": "markdown",
      "source": [
        "Some of the popular languages that Data Scientists use are:\n",
        "<ol>\n",
        "    <li>Python</li>\n",
        "    <li>R</li>\n",
        "    <li>SQL</li>\n",
        "    <li>Java</li>\n",
        "    <li>Julia</li>\n",
        "    <li>Scala</li>\n",
        "    <li>C/C++</li>\n",
        "    <li>JavaScript</li>\n",
        "</ol>"
      ],
      "metadata": {
        "id": "wW17w5CyjV6N"
      }
    },
    {
      "cell_type": "markdown",
      "source": [
        "<strong>Exercise 5 - Create a markdown cell to list data science libraries.</strong>"
      ],
      "metadata": {
        "id": "glEkbwXWj4iA"
      }
    },
    {
      "cell_type": "markdown",
      "source": [
        "Some of the commonly used libraries used by Data Scientists include:\n",
        "<ol>\n",
        "    <li>TensorFlow</li>\n",
        "    <li>NumPy</li>\n",
        "    <li>SciPy</li>\n",
        "    <li>Pandas</li>\n",
        "    <li>Matplotlib</li>\n",
        "    <li>Keras</li>\n",
        "    <li>SciKit-Learn</li>\n",
        "    <li>PyTorch</li>\n",
        "    <li>Scrapy</li>\n",
        "    <li>BeautifulSoup</li>\n",
        "    <li>LightGBM</li>\n",
        "    <li>ELI5</li>\n",
        "    <li>Theano</li>\n",
        "    <li>NuPIC</li>\n",
        "    <li>Ramp</li>\n",
        "    <li>Pipenv</li>\n",
        "    <li>Bob</li>\n",
        "    <li>PyBrain</li>\n",
        "    <li>Caffe2</li>\n",
        "    <li>Chainer</li>\n",
        "</ol>"
      ],
      "metadata": {
        "id": "OD7_mv_-kELt"
      }
    },
    {
      "cell_type": "markdown",
      "source": [
        "<strong>Exercise 6 - Create a markdown cell with a table of Data Science tools.</strong>"
      ],
      "metadata": {
        "id": "TO7w-Q9MkIft"
      }
    },
    {
      "cell_type": "markdown",
      "source": [
        "<table style=\"width:100%\">\n",
        "  <tr>\n",
        "    <th>Data Science Tools</th>\n",
        "    <th></th>\n",
        "    <th></th>\n",
        "  </tr>\n",
        "  <tr>\n",
        "    <td>SAS. It is one of those data science tools which are specifically designed for statistical operation</td>\n",
        "    <td></td>\n",
        "    <td></td>\n",
        "  </tr>\n",
        "  <tr>\n",
        "    <td>Apache Spark</td>\n",
        "    <td></td>\n",
        "    <td></td>\n",
        "  </tr>\n",
        "  <tr>\n",
        "    <td>BigML</td>\n",
        "    <td></td>\n",
        "    <td></td>\n",
        "  </tr>\n",
        "</table>"
      ],
      "metadata": {
        "id": "zZphf8G-kxJI"
      }
    },
    {
      "cell_type": "markdown",
      "source": [
        "<strong>Exercise 7 - Create a markdown cell introducing arithmetic expression examples.</strong>"
      ],
      "metadata": {
        "id": "MrfhNbb8k_bV"
      }
    },
    {
      "cell_type": "markdown",
      "source": [
        "<h3>Below are a few examples of evaluating arithmetic expressions in Python</h3>"
      ],
      "metadata": {
        "id": "5WP_oSFOlDqo"
      }
    },
    {
      "cell_type": "code",
      "source": [
        "# Addition\n",
        "result = 2 + 3\n",
        "print(\"2 + 3 = {}\".format(result))\n",
        "\n",
        "# Subtraction\n",
        "result = 5 - 2\n",
        "print(\"5 - 2 = {}\".format(result))\n",
        "\n",
        "# Multiplication\n",
        "result = 4 * 6\n",
        "print(\"4 * 6 = {}\".format(result))"
      ],
      "metadata": {
        "colab": {
          "base_uri": "https://localhost:8080/"
        },
        "id": "vikXAe-IpmPE",
        "outputId": "4c74d83a-cf5b-45bb-c3a7-c1dd8cc798d1"
      },
      "execution_count": 7,
      "outputs": [
        {
          "output_type": "stream",
          "name": "stdout",
          "text": [
            "2 + 3 = 5\n",
            "5 - 2 = 3\n",
            "4 * 6 = 24\n"
          ]
        }
      ]
    },
    {
      "cell_type": "markdown",
      "source": [
        "<strong>Exercise 8 - Create a code cell to multiply and add numbers.</strong>"
      ],
      "metadata": {
        "id": "6VsvkWuHmExV"
      }
    },
    {
      "cell_type": "code",
      "execution_count": 1,
      "metadata": {
        "colab": {
          "base_uri": "https://localhost:8080/"
        },
        "id": "GGamUvumhrzf",
        "outputId": "f58c4aa4-0994-43f4-8b11-23c05938ae53"
      },
      "outputs": [
        {
          "output_type": "execute_result",
          "data": {
            "text/plain": [
              "17"
            ]
          },
          "metadata": {},
          "execution_count": 1
        }
      ],
      "source": [
        "# This a simple arithmetic expression to mutiply then add integers\n",
        "(3*4)+5"
      ]
    },
    {
      "cell_type": "markdown",
      "source": [
        "<strong>Exercise 9 - Create a code cell to convert minutes to hours</strong>"
      ],
      "metadata": {
        "id": "XI9v_EGhmgQ4"
      }
    },
    {
      "cell_type": "code",
      "source": [
        "# This will convert 200 minutes to hours by diving by 60\n",
        "print(round(200 / 60, 2),\"hours\")"
      ],
      "metadata": {
        "colab": {
          "base_uri": "https://localhost:8080/"
        },
        "id": "qCJ0ilCcmaNd",
        "outputId": "11c8718e-7294-4ef8-ae0c-32a025aed5ab"
      },
      "execution_count": 6,
      "outputs": [
        {
          "output_type": "stream",
          "name": "stdout",
          "text": [
            "3.33 hours\n"
          ]
        }
      ]
    },
    {
      "cell_type": "markdown",
      "source": [
        "<strong>Exercise 10 -Insert a markdown cell to list Objectives</strong>"
      ],
      "metadata": {
        "id": "IfNnrj9YncRm"
      }
    },
    {
      "cell_type": "markdown",
      "source": [
        "<strong>Exercise 11 - Create a markdown cell to indicate the Author’s name</strong>"
      ],
      "metadata": {
        "id": "JdnsslJ7nyLg"
      }
    },
    {
      "cell_type": "markdown",
      "source": [
        "<h2>Author:</h2> Moustafa Abada"
      ],
      "metadata": {
        "id": "FyV9TQDTn9ps"
      }
    }
  ]
}